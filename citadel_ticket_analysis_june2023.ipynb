{
 "cells": [
  {
   "cell_type": "markdown",
   "id": "2770162b",
   "metadata": {},
   "source": [
    "# Analysis of Citadel Tickets\n",
    "June 26, 2023  \n",
    "J. Halverson"
   ]
  },
  {
   "cell_type": "markdown",
   "id": "270e0748",
   "metadata": {},
   "source": [
    "## Part 1: Convert the mbox file to CSV"
   ]
  },
  {
   "cell_type": "code",
   "execution_count": null,
   "id": "64617f42",
   "metadata": {},
   "outputs": [],
   "source": [
    "import sys\n",
    "import mailbox\n",
    "import csv\n",
    "from email.header import decode_header\n",
    "\n",
    "infile = \"Citadel.mbox\"\n",
    "outfile = \"Citadel.csv\"\n",
    "writer = csv.writer(open(outfile, \"w\"))\n",
    "\n",
    "def get_content(part):\n",
    "    content = ''\n",
    "    payload = part.get_payload()\n",
    "    if isinstance(payload, str):\n",
    "        content += payload\n",
    "    else:\n",
    "        for part in payload:\n",
    "            content += get_content(part)\n",
    "    return content\n",
    "\n",
    "writer.writerow(['date', 'from', 'to', 'subject', 'content'])\n",
    "for index, message in enumerate(mailbox.mbox(infile)):\n",
    "    content = get_content(message)\n",
    "    try:\n",
    "        subj = decode_header(message['subject'])[0][0]\n",
    "    except:\n",
    "        subj = \"\"\n",
    "\n",
    "    row = [\n",
    "        message['date'],\n",
    "        message['from'],\n",
    "        message['to'],\n",
    "        subj,\n",
    "        content\n",
    "    ]\n",
    "    writer.writerow(row)"
   ]
  },
  {
   "cell_type": "markdown",
   "id": "5023c17e",
   "metadata": {},
   "source": [
    "## Part 2: Analyze the data in pandas"
   ]
  },
  {
   "cell_type": "code",
   "execution_count": null,
   "id": "dcf7f2f8",
   "metadata": {},
   "outputs": [],
   "source": [
    "import pandas as pd\n",
    "import re"
   ]
  },
  {
   "cell_type": "code",
   "execution_count": null,
   "id": "14cddf10",
   "metadata": {},
   "outputs": [],
   "source": [
    "pd.set_option(\"display.max_rows\", None)\n",
    "pd.set_option(\"display.max_columns\", None)\n",
    "pd.set_option(\"display.width\", 1000)"
   ]
  },
  {
   "cell_type": "code",
   "execution_count": null,
   "id": "7f785452",
   "metadata": {},
   "outputs": [],
   "source": [
    "df = pd.read_csv(outfile)"
   ]
  },
  {
   "cell_type": "code",
   "execution_count": null,
   "id": "e785441d",
   "metadata": {},
   "outputs": [],
   "source": [
    "df.info()"
   ]
  },
  {
   "cell_type": "code",
   "execution_count": null,
   "id": "07e4aeb8",
   "metadata": {},
   "outputs": [],
   "source": [
    "df.describe()"
   ]
  },
  {
   "cell_type": "code",
   "execution_count": null,
   "id": "fdcdfdde",
   "metadata": {},
   "outputs": [],
   "source": [
    "df.head(2)"
   ]
  },
  {
   "cell_type": "code",
   "execution_count": null,
   "id": "fc154131",
   "metadata": {},
   "outputs": [],
   "source": [
    "df[\"from\"].value_counts()"
   ]
  },
  {
   "cell_type": "markdown",
   "id": "86a39a2d",
   "metadata": {},
   "source": [
    "The \"to\" field looks uninteresting:"
   ]
  },
  {
   "cell_type": "code",
   "execution_count": null,
   "id": "3f801f2f",
   "metadata": {
    "scrolled": false
   },
   "outputs": [],
   "source": [
    "df[\"to\"].value_counts().head(20)"
   ]
  },
  {
   "cell_type": "code",
   "execution_count": null,
   "id": "138f02ff",
   "metadata": {},
   "outputs": [],
   "source": [
    "def extract_ticket_id(subject):\n",
    "    ticket_id = re.findall(r\"[0-9][0-9][0-9][0-9][0-9]\", subject)\n",
    "    if ticket_id == []:\n",
    "        return -1\n",
    "    else:\n",
    "        return max(ticket_id)"
   ]
  },
  {
   "cell_type": "code",
   "execution_count": null,
   "id": "be238a65",
   "metadata": {},
   "outputs": [],
   "source": [
    "df[\"ticket_id\"] = df[\"subject\"].apply(extract_ticket_id)"
   ]
  },
  {
   "cell_type": "markdown",
   "id": "ec2f53df",
   "metadata": {},
   "source": [
    "Let's look a the subject of the tickets that did not have a ticket number -- this is a check that we can ignore these tickets:"
   ]
  },
  {
   "cell_type": "code",
   "execution_count": null,
   "id": "c3f7b1b5",
   "metadata": {},
   "outputs": [],
   "source": [
    "df[df.ticket_id == -1].subject"
   ]
  },
  {
   "cell_type": "markdown",
   "id": "358f9089",
   "metadata": {},
   "source": [
    "Let's drop the 59 entries above from the analysis:"
   ]
  },
  {
   "cell_type": "code",
   "execution_count": null,
   "id": "c33d9de1",
   "metadata": {},
   "outputs": [],
   "source": [
    "df = df[df.ticket_id != -1]"
   ]
  },
  {
   "cell_type": "code",
   "execution_count": null,
   "id": "02e3cea3",
   "metadata": {},
   "outputs": [],
   "source": [
    "df.shape"
   ]
  },
  {
   "cell_type": "markdown",
   "id": "01262927",
   "metadata": {},
   "source": [
    "Now add fields for each person of interest per ticket. Note that some people have multiple values for the \"from\" people but not any of these four."
   ]
  },
  {
   "cell_type": "code",
   "execution_count": null,
   "id": "8fbb8b8d",
   "metadata": {},
   "outputs": [],
   "source": [
    "df[\"Lori\"] = df[\"from\"].apply(lambda x: 1 if \"lbougher\" in x else 0)\n",
    "df[\"Colin\"] = df[\"from\"].apply(lambda x: 1 if \"colinswaney\" in x else 0)\n",
    "df[\"Eugenia\"] = df[\"from\"].apply(lambda x: 1 if \"Eugenia\" in x else 0)\n",
    "df[\"Valerie\"] = df[\"from\"].apply(lambda x: 1 if \"Valerie Ching\" in x else 0)"
   ]
  },
  {
   "cell_type": "markdown",
   "id": "669ad4e3",
   "metadata": {},
   "source": [
    "We can also work by the body and subject of the message:"
   ]
  },
  {
   "cell_type": "code",
   "execution_count": null,
   "id": "26f03dc7",
   "metadata": {},
   "outputs": [],
   "source": [
    "df[\"Infutor\"] = df.apply(lambda row: 1 if (\"infutor\" in row[\"subject\"].lower()) or (\"infutor\" in row[\"content\"].lower()) else 0, axis=1)\n",
    "df[\"L2\"] = df.apply(lambda row: 1 if (\" L2 \" in row[\"subject\"].upper()) or (\" L2 \" in row[\"content\"].upper()) else 0, axis=1)"
   ]
  },
  {
   "cell_type": "code",
   "execution_count": null,
   "id": "fd99fc20",
   "metadata": {},
   "outputs": [],
   "source": [
    "df.head(2)"
   ]
  },
  {
   "cell_type": "code",
   "execution_count": null,
   "id": "3b033662",
   "metadata": {},
   "outputs": [],
   "source": [
    "d = {\"Lori\":\"sum\", \"Colin\":\"sum\", \"Eugenia\":\"sum\", \"Valerie\":\"sum\", \"Infutor\":\"sum\", \"L2\":\"sum\", \"subject\":\"first\"}\n",
    "gp = df.groupby(\"ticket_id\").agg(d)"
   ]
  },
  {
   "cell_type": "markdown",
   "id": "cdad19cb",
   "metadata": {},
   "source": [
    "The number of unique tickets is:"
   ]
  },
  {
   "cell_type": "code",
   "execution_count": null,
   "id": "6220e600",
   "metadata": {},
   "outputs": [],
   "source": [
    "gp.shape[0]"
   ]
  },
  {
   "cell_type": "markdown",
   "id": "3b5f5350",
   "metadata": {},
   "source": [
    "Percentage of tickets with that person's involvement:"
   ]
  },
  {
   "cell_type": "code",
   "execution_count": null,
   "id": "94ac1045",
   "metadata": {},
   "outputs": [],
   "source": [
    "print(f'Lori={round(100 * gp[gp[\"Lori\"] > 0].shape[0] / gp.shape[0])}%')"
   ]
  },
  {
   "cell_type": "code",
   "execution_count": null,
   "id": "ac174371",
   "metadata": {},
   "outputs": [],
   "source": [
    "print(f'Colin={round(100 * gp[gp[\"Colin\"] > 0].shape[0] / gp.shape[0])}%')"
   ]
  },
  {
   "cell_type": "code",
   "execution_count": null,
   "id": "dc8aec99",
   "metadata": {},
   "outputs": [],
   "source": [
    "print(f'Eugenia={round(100 * gp[gp[\"Eugenia\"] > 0].shape[0] / gp.shape[0])}%')"
   ]
  },
  {
   "cell_type": "code",
   "execution_count": null,
   "id": "b3950fed",
   "metadata": {},
   "outputs": [],
   "source": [
    "print(f'Valerie={round(100 * gp[gp[\"Valerie\"] > 0].shape[0] / gp.shape[0])}%')"
   ]
  },
  {
   "cell_type": "code",
   "execution_count": null,
   "id": "e200bbe8",
   "metadata": {},
   "outputs": [],
   "source": [
    "print(f'Lori|Colin|Eugenia|Valerie={round(100 * gp[(gp[\"Lori\"] > 0) | (gp[\"Colin\"] > 0) | (gp[\"Eugenia\"] > 0) | (gp[\"Valerie\"] > 0)].shape[0] / gp.shape[0])}%')"
   ]
  },
  {
   "cell_type": "code",
   "execution_count": null,
   "id": "0597939d",
   "metadata": {},
   "outputs": [],
   "source": [
    "print(f'Infutor={round(100 * gp[gp[\"Infutor\"] > 0].shape[0] / gp.shape[0])}%')"
   ]
  },
  {
   "cell_type": "code",
   "execution_count": null,
   "id": "cfed9ca1",
   "metadata": {},
   "outputs": [],
   "source": [
    "print(f'L2={round(100 * gp[gp[\"L2\"] > 0].shape[0] / gp.shape[0])}%')"
   ]
  },
  {
   "cell_type": "markdown",
   "id": "31eadcda",
   "metadata": {},
   "source": [
    "The following shows all of th tickets and the number of emails each person sent per ticket:"
   ]
  },
  {
   "cell_type": "code",
   "execution_count": null,
   "id": "cc7398ce",
   "metadata": {
    "scrolled": false
   },
   "outputs": [],
   "source": [
    "gp.reset_index(drop=False, inplace=True)\n",
    "gp.index += 1\n",
    "gp"
   ]
  }
 ],
 "metadata": {
  "kernelspec": {
   "display_name": "Python 3 (ipykernel)",
   "language": "python",
   "name": "python3"
  },
  "language_info": {
   "codemirror_mode": {
    "name": "ipython",
    "version": 3
   },
   "file_extension": ".py",
   "mimetype": "text/x-python",
   "name": "python",
   "nbconvert_exporter": "python",
   "pygments_lexer": "ipython3",
   "version": "3.9.12"
  }
 },
 "nbformat": 4,
 "nbformat_minor": 5
}
